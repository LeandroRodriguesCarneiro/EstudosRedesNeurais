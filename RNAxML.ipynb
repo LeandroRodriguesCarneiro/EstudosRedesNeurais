{
 "cells": [
  {
   "cell_type": "code",
   "execution_count": 1,
   "id": "e3aa06c5-5069-4c4c-974f-aab20e6cea41",
   "metadata": {},
   "outputs": [],
   "source": [
    "import numpy as np\n",
    "from sklearn.datasets import load_iris\n",
    "from sklearn.metrics import accuracy_score\n",
    "from sklearn.preprocessing import MinMaxScaler, OneHotEncoder\n",
    "from sklearn.tree import DecisionTreeClassifier\n",
    "from sklearn.model_selection import train_test_split\n",
    "import matplotlib.pyplot as plt\n",
    "import pandas as pd\n",
    "%matplotlib inline"
   ]
  },
  {
   "cell_type": "code",
   "execution_count": 2,
   "id": "3075ee14-96cb-4455-a36d-d48df2e056a1",
   "metadata": {},
   "outputs": [],
   "source": [
    "def linear(x, derivative=False):\n",
    "    return np.ones_like(x) if derivative else x\n",
    "\n",
    "def sigmoid(x, derivative=False):\n",
    "    if derivative:\n",
    "        y = sigmoid(x)\n",
    "        return y*(1 - y)\n",
    "    return 1.0/(1.0 + np.exp(-x))\n",
    "\n",
    "def tanh(x, derivative=False):\n",
    "    if derivative:\n",
    "        y = tanh(x)\n",
    "        return 1 - y**2\n",
    "    return (np.exp(x) - np.exp(-x))/(np.exp(x) + np.exp(-x))\n",
    "\n",
    "def relu(x, derivative=False):\n",
    "    if derivative:\n",
    "        return np.where(x <= 0, 0, 1)\n",
    "    return np.maximum(0, x)\n",
    "\n",
    "def leaky_relu(x, derivative=False):\n",
    "    alpha = 0.1\n",
    "    if derivative:\n",
    "        return np.where(x <= 0, alpha, 1)\n",
    "    return np.where(x <= 0, alpha*x, x)\n",
    "\n",
    "def elu(x, derivative=False):\n",
    "    alpha = 1.0\n",
    "    if derivative:\n",
    "        y = elu(x)\n",
    "        return np.where(x <= 0, y + alpha, 1)\n",
    "    return np.where(x <= 0, alpha*(np.exp(x) - 1), x)"
   ]
  },
  {
   "cell_type": "code",
   "execution_count": 3,
   "id": "551ab77d-83a6-4c2b-97c7-bbbbc082f14b",
   "metadata": {},
   "outputs": [],
   "source": [
    "def softmax(x, y_oh=None, derivative=False):\n",
    "    if derivative:\n",
    "        y_pred = softmax(x)\n",
    "        k = np.nonzero(y_pred * y_oh)\n",
    "        pk = y_pred[k]\n",
    "        y_pred[k] = pk * (1.0 - pk)\n",
    "        return y_pred\n",
    "    exp = np.exp(x)\n",
    "    return exp / np.sum(exp, axis=1, keepdims=True)"
   ]
  },
  {
   "cell_type": "code",
   "execution_count": 4,
   "id": "80f1a99d-2a01-499d-a2d5-4e9ae54039b7",
   "metadata": {},
   "outputs": [],
   "source": [
    "def mae(y, y_pred, derivative=False):\n",
    "    if derivative:\n",
    "        return np.where(y_pred > y, 1, -1) / y.shape[0]\n",
    "    else:\n",
    "        return np.mean(np.abs(y - y_pred))\n",
    "\n",
    "def mse(y, y_pred, derivative=False):\n",
    "    if derivative:\n",
    "        return -(y - y_pred) / y.shape[0]\n",
    "    else:\n",
    "        return 0.5 * np.mean((y - y_pred) ** 2)"
   ]
  },
  {
   "cell_type": "code",
   "execution_count": 5,
   "id": "54b02971-bb2f-4ce6-8d79-effd8c2da651",
   "metadata": {},
   "outputs": [],
   "source": [
    "def binary_cross_entropy(y, y_pred, derivative=False):\n",
    "    if derivative:\n",
    "        return -(y - y_pred) / (y_pred * (1-y_pred) * y.shape[0])\n",
    "    return -np.mean(y*np.log(y_pred) + (1-y)*np.log(1-y_pred))\n",
    "\n",
    "def sigmoid_cross_entropy(y, y_pred, derivative=False):\n",
    "    y_sigmoid = sigmoid(y_pred)\n",
    "    if derivative:\n",
    "        return -(y - y_sigmoid) / y.shape[0]\n",
    "    return -np.mean(y * np.log(y_sigmoid) + (1 - y) * np.log(1 - y_sigmoid))"
   ]
  },
  {
   "cell_type": "code",
   "execution_count": 6,
   "id": "8496388f-e6e2-4394-a7cf-2a5ac00b9b1d",
   "metadata": {},
   "outputs": [],
   "source": [
    "def neg_log_likelihood(y_oh, y_pred, derivative=False):\n",
    "    k = np.nonzero(y_pred * y_oh)\n",
    "    pk = y_pred[k]\n",
    "    if derivative:\n",
    "        y_pred[k] = (-1.0 / pk)\n",
    "        return y_pred\n",
    "    return np.mean(-np.log(pk))\n",
    "\n",
    "def softmax_neg_log_likelihood(y_oh, y_pred, derivative=False):\n",
    "    y_softmax = softmax(y_pred)\n",
    "    if derivative:\n",
    "        return -(y_oh - y_softmax) / y_oh.shape[0]    \n",
    "    return neg_log_likelihood(y_oh, y_softmax)"
   ]
  },
  {
   "cell_type": "code",
   "execution_count": 7,
   "id": "01bf3863-4745-438f-900b-354b76b65a04",
   "metadata": {},
   "outputs": [],
   "source": [
    "#não utilizar metodos de inicializar com apenas zeros e uns para não ter uma rede simetrica\n",
    "def zeros(rows, columns):\n",
    "    return np.zeros((rows, columns))\n",
    "\n",
    "def ones(rows, columns):\n",
    "    return np.ones((rows, columns))\n",
    "\n",
    "#normal aleatoria\n",
    "def random_normal(rows, columns):\n",
    "    return np.random.randn(rows, columns)\n",
    "\n",
    "#uniforme aletaria\n",
    "def random_uniform(rows, columns):\n",
    "    return np.random.rand(rows, columns)\n",
    "\n",
    "#glorot uniforme quebra a simetria e converge mais rapidamente sqrt(6/(in + out))\n",
    "def glorot_uniform(rows, columns):\n",
    "    limit = np.sqrt(6/(rows + columns))\n",
    "    return 2*limit * np.random.rand(rows, columns) - limit\n",
    "\n",
    "#glorot normal quebra a simetria e converge mais rapidamente sqrt(2/(in + out))\n",
    "def glorot_normal(rows, columns):\n",
    "    std_dev = np.sqrt(2/(rows + columns))\n",
    "    return std_dev * np.random.randn(rows, columns)"
   ]
  },
  {
   "cell_type": "code",
   "execution_count": 8,
   "id": "200915e6-7713-46cc-8700-03bc702e8563",
   "metadata": {},
   "outputs": [],
   "source": [
    "#regularização L1 mata alguns neoronios, faz seleção de atributos importantes, dificil de estimar aplique apenas em casos de overfitting \n",
    "def l1_regularization(weights, derivative=False):\n",
    "    if derivative:\n",
    "        weights = [np.where(w < 0, -1, w) for w in weights]\n",
    "        return np.array([np.where(w > 0, 1, w) for w in weights])\n",
    "    return np.sum([np.sum(np.abs(w)) for w in weights])\n",
    "\n",
    "#regularização L2 nenhum atributo é mais importante, tende a diminui e espelaha valores e decaimento dos pesos, dificil de estimar aplique apenas em overfitting\n",
    "def l2_regularization(weights, derivative=False):\n",
    "    if derivative:\n",
    "        return weights\n",
    "    return 0.5 * np.sum(weights**2)"
   ]
  },
  {
   "cell_type": "code",
   "execution_count": 9,
   "id": "2b5b4dd6-1899-4eac-ba56-bf34dc92a3c1",
   "metadata": {},
   "outputs": [],
   "source": [
    "#Mini-batch divide o conjunto de treinamento em conjuntos menores, é importante dar shuffle (embaralhar) antes de cada epoch = processar todos os batch em geral é \n",
    "# a estratégia de gradiente descendente mais utilizada\n",
    "#gradiente estocastico aprende com apenass uma amostra por vez, gradiente para cada amostra, conversão lenta, anula vetorização\n",
    "#mini-batch Em geral aponta para direção que desce, converge rapido, mas não tão rapido como batch, rapida execução\n",
    "#batch gradiente aponta para direção que sempre desce, converge rapido, execução lenta\n",
    "\n",
    "def batch_sequential(x, y, batch_size = None):\n",
    "    batch_size = x.shape[0] if batch_size is None else batch_size\n",
    "    n_batchs = x.shape[0] // batch_size\n",
    "    for batch in range(n_batchs):\n",
    "        offset = batch_size * batch\n",
    "        x_batch, y_batch = x[offset:offset+batch_size], y[offset:offset+batch_size]\n",
    "        yield(x_batch,y_batch)\n",
    "\n",
    "def batch_shuffle(x, y, batch_size = None):\n",
    "    shuffle_index = np.random.permutation(range(x.shape[0]))\n",
    "    return batch_sequential(x[shuffle_index], y[shuffle_index], batch_size)"
   ]
  },
  {
   "cell_type": "code",
   "execution_count": 10,
   "id": "984cb65b-d67a-474b-967f-94795133496e",
   "metadata": {},
   "outputs": [],
   "source": [
    "#learning rate influencia diretamente a aprendizagem da rede, valores altos e baixos, busca decair a learning rate ao longo do tempo\n",
    "#time based menor o alpha menor a aprendizagem\n",
    "def none_decay(learnin_rate, epoch, decay_rate, decay_steps = 1):\n",
    "    return learnin_rate\n",
    "\n",
    "def time_based_decay(learnin_rate, epoch, decay_rate, decay_steps = 1):\n",
    "    return 1 / (1 + decay_rate * epoch)\n",
    "\n",
    "#exponencial maior o alpha menor aprendizagem\n",
    "def exponential_decay(learnin_rate, epoch, decay_rate, decay_steps = 1):\n",
    "    return learnin_rate * decay_rate ** epoch\n",
    "\n",
    "#stair case decaimento controlado por epochs\n",
    "def staircase_decay(learnin_rate, epoch, decay_rate, decay_steps = 1):\n",
    "    return learnin_rate * decay_rate ** (epoch // decay_steps)"
   ]
  },
  {
   "cell_type": "code",
   "execution_count": 11,
   "id": "013e6ae9-4c19-4c6d-87e5-aad4ee8c7aa1",
   "metadata": {},
   "outputs": [],
   "source": [
    "def batchnorm_forward(layer, x, is_training=True):\n",
    "    mu = np.mean(x, axis=0) if is_training else layer._pop_mean\n",
    "    var = np.var(x, axis=0) if is_training else layer._pop_var\n",
    "    x_norm = (x - mu) / np.sqrt(var + 1e-8)\n",
    "    out = layer.gamma * x_norm + layer.beta\n",
    "\n",
    "    if is_training:\n",
    "        layer._pop_mean = layer.bn_decay * layer._pop_mean + (1.0-layer.bn_decay)*mu\n",
    "        layer._pop_var = layer.bn_decay * layer._pop_var + (1.0-layer.bn_decay)*var\n",
    "        layer._bn_cache = (x, x_norm, mu, var)\n",
    "    return out\n",
    "\n",
    "def batchnorm_backward(layer, dactivation):\n",
    "    x, x_norm, mu, var = layer._bn_cache\n",
    "\n",
    "    m = layer._activ_inp.shape[0]\n",
    "    x_mu = x - mu\n",
    "    std_inv = 1. / np.sqrt(var + 1e-8)\n",
    "\n",
    "    dx_norm = dactivation * layer.gamma\n",
    "    dvar = np.sum(dx_norm * x_mu, axis=0) * -0.5 * (std_inv**3)\n",
    "    dmu = np.sum(dx_norm * -std_inv, axis=0) + dvar * np.mean(-2.0 * x_mu, axis=0)\n",
    "\n",
    "    dx = (dx_norm * std_inv) + (dvar * 2.0 * x_mu / m) + (dmu / m)\n",
    "    layer._dgamma = np.sum(dactivation * x_norm, axis=0)\n",
    "    layer._dbeta = np.sum(dactivation, axis=0)\n",
    "    return dx"
   ]
  },
  {
   "cell_type": "code",
   "execution_count": 12,
   "id": "c9e7bde3-6018-4778-92fc-0edd7ff0cb14",
   "metadata": {},
   "outputs": [],
   "source": [
    "class Layer():\n",
    "    def __init__(self, input_dim, output_dim, activation=linear, weights_initializer=random_normal, biases_initializer=ones, dropout_prob=0, reg_func=l2_regularization, reg_strength=0, batch_norm = False, bn_decay =0.9, is_trainable = True):\n",
    "        self.input = None\n",
    "        self.weights = weights_initializer(output_dim, input_dim)\n",
    "        self.biases = biases_initializer(1, output_dim)\n",
    "        self.activation = activation\n",
    "        self.dropout_prob = dropout_prob\n",
    "        self.reg_func = reg_func\n",
    "        self.reg_strength = reg_strength\n",
    "        self.batch_norm = batch_norm\n",
    "        self.bn_decay = bn_decay\n",
    "        self.gamma, self.beta = ones(1,output_dim), zeros(1,output_dim)\n",
    "        self.is_trainable = is_trainable\n",
    "\n",
    "        self._activ_inp, self._activ_out = None, None\n",
    "        self._dweights, self._dbiases, self._prev_dweights = None, None, 0\n",
    "        self._dropout_mask = None\n",
    "        self._dgamma, self._dbeta = None, None\n",
    "        self._pop_mean, self._pop_var = zeros(1, output_dim), zeros(1, output_dim)\n",
    "        self._bn_cache = None\n",
    "\n",
    "class NeuralNetwork():\n",
    "    def __init__(self, cost_func=mse, learning_rate=1e-3, lr_decay_method = none_decay, lr_decay_rate = 0, lr_decay_steps = 1,momentum=0, patience = np.inf):\n",
    "        self.layers = []\n",
    "        self.cost_function = cost_func\n",
    "        self.learning_rate = self.lr_initial = learning_rate\n",
    "        self.lr_decay_method = lr_decay_method\n",
    "        self.lr_decay_rate = lr_decay_rate\n",
    "        self.lr_decay_steps = lr_decay_steps\n",
    "        self.momentum = momentum\n",
    "        self.patience, self.waiting = patience, 0\n",
    "        self._best_model, self._best_loss = self.layers, np.inf\n",
    "\n",
    "    def fit(self, x_train, y_train, x_val=None, y_val=None, epochs=100, verbose=10, batch_gen=batch_sequential, batch_size=None):\n",
    "        x_val, y_val = (x_train, y_train) if (x_val is None or y_val is None) else (x_val, y_val)\n",
    "\n",
    "        for epoch in range(epochs+1):\n",
    "            self.learning_rate = self.lr_decay_method(self.lr_initial, epoch, self.lr_decay_rate, self.lr_decay_steps)\n",
    "\n",
    "            for x_batch, y_batch in batch_gen(x_train, y_train, batch_size):\n",
    "                y_pred = self.__feed_forward(x_batch)\n",
    "                self.__back_propagation(y_batch, y_pred)\n",
    "\n",
    "            loss_val = self.cost_function(y_val, self.predict(x_val))\n",
    "            if loss_val < self._best_loss:\n",
    "                self._best_model, self._best_loss = self.layers, loss_val\n",
    "                self.waiting = 0\n",
    "            else:\n",
    "                self.waiting += 1\n",
    "                if self.waiting >= self.patience:\n",
    "                    self.layers = self._best_model\n",
    "                    return\n",
    "            \n",
    "            if epoch % verbose == 0:\n",
    "                loss_train = self.cost_function(y_train, self.predict(x_train))\n",
    "                loss_reg = (1.0/y_train.shape[0])*np.sum([layer.reg_strength * layer.reg_func(layer.weights) for layer in self.layers])\n",
    "                print(\"epoch: {0:=4}/{1} loss_train: {2:.8f} + {3:.8f} = {4:.8f} loss_val = {5:.8f}\".format(epoch, epochs, loss_train, loss_reg, loss_train + loss_reg, loss_val))\n",
    "\n",
    "    def predict(self, x):\n",
    "        return self.__feed_forward(x,is_training = False)\n",
    "    \n",
    "    def save(self, file_path):\n",
    "        pkl.dump(self, open(file_path, 'wb'), -1)\n",
    "\n",
    "    def load(file_path):\n",
    "        return pkl.load(open(file_path, 'rb'))\n",
    "\n",
    "    def __feed_forward(self, x, is_training = True):\n",
    "        self.layers[0].input = x\n",
    "        for current_layer, next_layer in zip(self.layers, self.layers[1:]+[Layer(0,0)]):\n",
    "            y = np.dot(current_layer.input, current_layer.weights.T) + current_layer.biases\n",
    "            y = batchnorm_forward(current_layer, y, is_training) if current_layer.batch_norm else y\n",
    "            current_layer._dropout_mask = np.random.binomial(1, 1 - current_layer.dropout_prob, y.shape) / (1 - current_layer.dropout_prob)\n",
    "            current_layer._activ_inp = y\n",
    "            current_layer._activ_out = current_layer.activation(y) * (current_layer._dropout_mask if is_training else 1)\n",
    "            next_layer.input = current_layer._activ_out\n",
    "        return self.layers[-1]._activ_out\n",
    "    \n",
    "    def __back_propagation(self, y, y_pred):\n",
    "        last_delta = self.cost_function(y, y_pred, derivative = True)\n",
    "        for layer in reversed(self.layers):\n",
    "            d_activation = layer.activation(layer._activ_inp, derivative = True) * last_delta * layer._dropout_mask\n",
    "            d_activation = batchnorm_backward(layer, d_activation) if layer.batch_norm else d_activation\n",
    "            last_delta = np.dot(d_activation, layer.weights)\n",
    "            layer._dweights = np.dot(d_activation.T, layer.input)\n",
    "            layer._dbiases = 1.0 * d_activation.sum(axis=0, keepdims=True)\n",
    "\n",
    "        for layer in reversed(self.layers):\n",
    "            if layer.is_trainable:\n",
    "                layer._dweights = layer._dweights + (1.0/y.shape[0]) * layer.reg_strength * layer.reg_func(layer.weights, derivative=True)\n",
    "                layer._prev_dweights = -self.learning_rate * layer._dweights + self.momentum * layer._prev_dweights\n",
    "                layer.weights = layer.weights + layer._prev_dweights\n",
    "                layer.biases = layer.biases - self.learning_rate * layer._dbiases\n",
    "                \n",
    "                if layer.batch_norm:\n",
    "                    layer.gamma = layer.gamma - self.learning_rate * layer._dgamma\n",
    "                    layer.beta = layer.beta - self.learning_rate * layer._dbeta"
   ]
  },
  {
   "cell_type": "code",
   "execution_count": 13,
   "id": "19e8f13c-f751-4dfd-b667-2f68c0fb370a",
   "metadata": {},
   "outputs": [
    {
     "name": "stdout",
     "output_type": "stream",
     "text": [
      "['sepal length (cm)', 'sepal width (cm)', 'petal length (cm)', 'petal width (cm)']\n",
      "['setosa' 'versicolor' 'virginica']\n",
      "(150, 2) (150, 1)\n"
     ]
    },
    {
     "data": {
      "text/plain": [
       "<matplotlib.collections.PathCollection at 0x7f335454f490>"
      ]
     },
     "execution_count": 13,
     "metadata": {},
     "output_type": "execute_result"
    },
    {
     "data": {
      "image/png": "[encoded data removed]",
      "text/plain": [
       "<Figure size 640x480 with 1 Axes>"
      ]
     },
     "metadata": {},
     "output_type": "display_data"
    }
   ],
   "source": [
    "data = load_iris()\n",
    "x, y = data.data[:, 2:], data.target.reshape(-1,1)\n",
    "\n",
    "print(data.feature_names)\n",
    "print(data.target_names)\n",
    "print(x.shape, y.shape)\n",
    "plt.scatter(x[:,0], x[:,1], c=list(np.array(y).ravel()), s=15, cmap=plt.cm.viridis)"
   ]
  },
  {
   "cell_type": "code",
   "execution_count": 14,
   "id": "0562ed0e-03f7-4cad-95f9-074d6bfc2dfc",
   "metadata": {},
   "outputs": [],
   "source": [
    "x_train, x_test, y_train, y_test = train_test_split(x, y, test_size= 0.3, random_state=1)"
   ]
  },
  {
   "cell_type": "code",
   "execution_count": 15,
   "id": "a58e2303-32f4-4b70-87a8-c3d5860167ff",
   "metadata": {},
   "outputs": [
    {
     "name": "stdout",
     "output_type": "stream",
     "text": [
      "[[0. 0. 1.]\n",
      " [0. 0. 1.]\n",
      " [0. 1. 0.]\n",
      " [1. 0. 0.]\n",
      " [0. 1. 0.]\n",
      " [0. 0. 1.]]\n",
      "[[1. 0. 0.]\n",
      " [0. 1. 0.]\n",
      " [0. 0. 1.]]\n"
     ]
    }
   ],
   "source": [
    "onehot = OneHotEncoder(sparse_output=False)\n",
    "y_train_onehot = onehot.fit_transform(y_train)\n",
    "y_test_onehot = onehot.fit_transform(y_test)\n",
    "\n",
    "print(y_train_onehot[::20])\n",
    "print(y_test_onehot[::20])"
   ]
  },
  {
   "cell_type": "code",
   "execution_count": 16,
   "id": "487da99f-1d3e-4d1f-b885-e47e11980541",
   "metadata": {},
   "outputs": [
    {
     "name": "stdout",
     "output_type": "stream",
     "text": [
      "epoch:    0/100000 loss_train: 1.09041896 + 0.00000000 = 1.09041896 loss_val = 1.09041896\n",
      "epoch: 10000/100000 loss_train: 0.05488485 + 0.00000000 = 0.05488485 loss_val = 0.05488485\n",
      "epoch: 20000/100000 loss_train: 0.04300669 + 0.00000000 = 0.04300669 loss_val = 0.04300669\n",
      "epoch: 30000/100000 loss_train: 0.04136648 + 0.00000000 = 0.04136648 loss_val = 0.04136648\n",
      "epoch: 40000/100000 loss_train: 0.04028546 + 0.00000000 = 0.04028546 loss_val = 0.04028546\n",
      "epoch: 50000/100000 loss_train: 0.03930726 + 0.00000000 = 0.03930726 loss_val = 0.03930726\n",
      "epoch: 60000/100000 loss_train: 0.03876633 + 0.00000000 = 0.03876633 loss_val = 0.03876633\n",
      "epoch: 70000/100000 loss_train: 0.03792968 + 0.00000000 = 0.03792968 loss_val = 0.03792968\n",
      "epoch: 80000/100000 loss_train: 0.03752750 + 0.00000000 = 0.03752750 loss_val = 0.03752750\n",
      "epoch: 90000/100000 loss_train: 0.03699461 + 0.00000000 = 0.03699461 loss_val = 0.03699461\n",
      "epoch: 100000/100000 loss_train: 0.03663756 + 0.00000000 = 0.03663756 loss_val = 0.03663756\n"
     ]
    }
   ],
   "source": [
    "input_dim, output_dim = x_train.shape[1], y_train_onehot.shape[1]\n",
    "\n",
    "# insira sua rede aqui!\n",
    "nn = NeuralNetwork(softmax_neg_log_likelihood, 1e-3)\n",
    "nn.layers.append(Layer(input_dim=input_dim, output_dim=25, activation=tanh))\n",
    "nn.layers.append(Layer(input_dim=25, output_dim=20, activation=leaky_relu))\n",
    "nn.layers.append(Layer(input_dim=20, output_dim=output_dim, activation=linear))\n",
    "nn.fit(x_train, y_train_onehot, epochs = 100000, verbose = 10000, batch_gen=batch_shuffle, batch_size=15)"
   ]
  },
  {
   "cell_type": "code",
   "execution_count": 17,
   "id": "27f68e71-8294-4405-b76b-e5249d3d14c6",
   "metadata": {},
   "outputs": [
    {
     "name": "stdout",
     "output_type": "stream",
     "text": [
      "Melhores parâmetros encontrados:\n",
      "criterion                gini\n",
      "max_depth                 NaN\n",
      "min_samples_split           2\n",
      "min_samples_leaf            2\n",
      "max_features             log2\n",
      "accuracy             0.977778\n",
      "Name: 5, dtype: object\n"
     ]
    }
   ],
   "source": [
    "# Lista de resultados\n",
    "results = []\n",
    "\n",
    "# Iterar pelos hiperparâmetros\n",
    "for criterion in ['gini', 'entropy']:\n",
    "    for max_depth in [None, 10, 20, 30, 40, 50]:\n",
    "        for min_samples_split in [2, 5, 10]:\n",
    "            for min_samples_leaf in [1, 2, 4]:\n",
    "                for max_features in [None, 'sqrt', 'log2']:\n",
    "                    \n",
    "                    # Criar e treinar o modelo\n",
    "                    model_decision_tree = DecisionTreeClassifier(criterion=criterion, max_depth=max_depth, \n",
    "                                                                  min_samples_split=min_samples_split, min_samples_leaf=min_samples_leaf, \n",
    "                                                                  max_features=max_features)\n",
    "                    model_decision_tree.fit(x_train, y_train)\n",
    "\n",
    "                    # Avaliar o modelo\n",
    "                    accuracy = model_decision_tree.score(x_test, y_test)\n",
    "                    \n",
    "                    # Salvar os resultados\n",
    "                    results.append({\n",
    "                        'criterion': criterion,\n",
    "                        'max_depth': max_depth,\n",
    "                        'min_samples_split': min_samples_split,\n",
    "                        'min_samples_leaf': min_samples_leaf,\n",
    "                        'max_features': max_features,\n",
    "                        'accuracy': accuracy\n",
    "                    })\n",
    "\n",
    "# Criar DataFrame dos resultados\n",
    "results_df = pd.DataFrame(results)\n",
    "\n",
    "# Exibir os melhores resultados\n",
    "best_results = results_df.loc[results_df['accuracy'].idxmax()]\n",
    "print(\"Melhores parâmetros encontrados:\")\n",
    "print(best_results)"
   ]
  },
  {
   "cell_type": "code",
   "execution_count": 18,
   "id": "e52a09b5-e8de-4845-b536-c03c2dfaf669",
   "metadata": {},
   "outputs": [
    {
     "data": {
      "text/html": [
       "<style>#sk-container-id-1 {color: black;}#sk-container-id-1 pre{padding: 0;}#sk-container-id-1 div.sk-toggleable {background-color: white;}#sk-container-id-1 label.sk-toggleable__label {cursor: pointer;display: block;width: 100%;margin-bottom: 0;padding: 0.3em;box-sizing: border-box;text-align: center;}#sk-container-id-1 label.sk-toggleable__label-arrow:before {content: \"▸\";float: left;margin-right: 0.25em;color: #696969;}#sk-container-id-1 label.sk-toggleable__label-arrow:hover:before {color: black;}#sk-container-id-1 div.sk-estimator:hover label.sk-toggleable__label-arrow:before {color: black;}#sk-container-id-1 div.sk-toggleable__content {max-height: 0;max-width: 0;overflow: hidden;text-align: left;background-color: #f0f8ff;}#sk-container-id-1 div.sk-toggleable__content pre {margin: 0.2em;color: black;border-radius: 0.25em;background-color: #f0f8ff;}#sk-container-id-1 input.sk-toggleable__control:checked~div.sk-toggleable__content {max-height: 200px;max-width: 100%;overflow: auto;}#sk-container-id-1 input.sk-toggleable__control:checked~label.sk-toggleable__label-arrow:before {content: \"▾\";}#sk-container-id-1 div.sk-estimator input.sk-toggleable__control:checked~label.sk-toggleable__label {background-color: #d4ebff;}#sk-container-id-1 div.sk-label input.sk-toggleable__control:checked~label.sk-toggleable__label {background-color: #d4ebff;}#sk-container-id-1 input.sk-hidden--visually {border: 0;clip: rect(1px 1px 1px 1px);clip: rect(1px, 1px, 1px, 1px);height: 1px;margin: -1px;overflow: hidden;padding: 0;position: absolute;width: 1px;}#sk-container-id-1 div.sk-estimator {font-family: monospace;background-color: #f0f8ff;border: 1px dotted black;border-radius: 0.25em;box-sizing: border-box;margin-bottom: 0.5em;}#sk-container-id-1 div.sk-estimator:hover {background-color: #d4ebff;}#sk-container-id-1 div.sk-parallel-item::after {content: \"\";width: 100%;border-bottom: 1px solid gray;flex-grow: 1;}#sk-container-id-1 div.sk-label:hover label.sk-toggleable__label {background-color: #d4ebff;}#sk-container-id-1 div.sk-serial::before {content: \"\";position: absolute;border-left: 1px solid gray;box-sizing: border-box;top: 0;bottom: 0;left: 50%;z-index: 0;}#sk-container-id-1 div.sk-serial {display: flex;flex-direction: column;align-items: center;background-color: white;padding-right: 0.2em;padding-left: 0.2em;position: relative;}#sk-container-id-1 div.sk-item {position: relative;z-index: 1;}#sk-container-id-1 div.sk-parallel {display: flex;align-items: stretch;justify-content: center;background-color: white;position: relative;}#sk-container-id-1 div.sk-item::before, #sk-container-id-1 div.sk-parallel-item::before {content: \"\";position: absolute;border-left: 1px solid gray;box-sizing: border-box;top: 0;bottom: 0;left: 50%;z-index: -1;}#sk-container-id-1 div.sk-parallel-item {display: flex;flex-direction: column;z-index: 1;position: relative;background-color: white;}#sk-container-id-1 div.sk-parallel-item:first-child::after {align-self: flex-end;width: 50%;}#sk-container-id-1 div.sk-parallel-item:last-child::after {align-self: flex-start;width: 50%;}#sk-container-id-1 div.sk-parallel-item:only-child::after {width: 0;}#sk-container-id-1 div.sk-dashed-wrapped {border: 1px dashed gray;margin: 0 0.4em 0.5em 0.4em;box-sizing: border-box;padding-bottom: 0.4em;background-color: white;}#sk-container-id-1 div.sk-label label {font-family: monospace;font-weight: bold;display: inline-block;line-height: 1.2em;}#sk-container-id-1 div.sk-label-container {text-align: center;}#sk-container-id-1 div.sk-container {/* jupyter's `normalize.less` sets `[hidden] { display: none; }` but bootstrap.min.css set `[hidden] { display: none !important; }` so we also need the `!important` here to be able to override the default hidden behavior on the sphinx rendered scikit-learn.org. See: https://github.com/scikit-learn/scikit-learn/issues/21755 */display: inline-block !important;position: relative;}#sk-container-id-1 div.sk-text-repr-fallback {display: none;}</style><div id=\"sk-container-id-1\" class=\"sk-top-container\"><div class=\"sk-text-repr-fallback\"><pre>DecisionTreeClassifier(max_features=&#x27;sqrt&#x27;, min_samples_split=5)</pre><b>In a Jupyter environment, please rerun this cell to show the HTML representation or trust the notebook. <br />On GitHub, the HTML representation is unable to render, please try loading this page with nbviewer.org.</b></div><div class=\"sk-container\" hidden><div class=\"sk-item\"><div class=\"sk-estimator sk-toggleable\"><input class=\"sk-toggleable__control sk-hidden--visually\" id=\"sk-estimator-id-1\" type=\"checkbox\" checked><label for=\"sk-estimator-id-1\" class=\"sk-toggleable__label sk-toggleable__label-arrow\">DecisionTreeClassifier</label><div class=\"sk-toggleable__content\"><pre>DecisionTreeClassifier(max_features=&#x27;sqrt&#x27;, min_samples_split=5)</pre></div></div></div></div></div>"
      ],
      "text/plain": [
       "DecisionTreeClassifier(max_features='sqrt', min_samples_split=5)"
      ]
     },
     "execution_count": 18,
     "metadata": {},
     "output_type": "execute_result"
    }
   ],
   "source": [
    "model_decision_tree = DecisionTreeClassifier(criterion='gini', min_samples_split=5, min_samples_leaf=1, max_features='sqrt')\n",
    "model_decision_tree.fit(x_train, y_train)"
   ]
  },
  {
   "cell_type": "code",
   "execution_count": 19,
   "id": "23c382cd-502f-46da-a145-a89b1f227f3d",
   "metadata": {},
   "outputs": [
    {
     "name": "stdout",
     "output_type": "stream",
     "text": [
      "Acurácia da arvore de decisao: 95.56%\n",
      "Acurácia da rede neural: 95.56%\n"
     ]
    }
   ],
   "source": [
    "prevision_dicision_tree = model_decision_tree.predict(x_test)\n",
    "y_pred = np.argmax(nn.predict(x_test), axis=1)\n",
    "\n",
    "print(f'Acurácia da arvore de decisao: {(accuracy_score(y_test, prevision_dicision_tree) * 100):.2f}%')\n",
    "print('Acurácia da rede neural: {:.2f}%'.format(100*accuracy_score(y_test, y_pred)))"
   ]
  }
 ],
 "metadata": {
  "kernelspec": {
   "display_name": "Python 3 (ipykernel)",
   "language": "python",
   "name": "python3"
  },
  "language_info": {
   "codemirror_mode": {
    "name": "ipython",
    "version": 3
   },
   "file_extension": ".py",
   "mimetype": "text/x-python",
   "name": "python",
   "nbconvert_exporter": "python",
   "pygments_lexer": "ipython3",
   "version": "3.11.5"
  }
 },
 "nbformat": 4,
 "nbformat_minor": 5
}
